{
 "cells": [
  {
   "cell_type": "code",
   "execution_count": 1,
   "metadata": {},
   "outputs": [],
   "source": [
    "from brand_score import BrandScore "
   ]
  },
  {
   "cell_type": "code",
   "execution_count": 2,
   "metadata": {},
   "outputs": [
    {
     "name": "stdout",
     "output_type": "stream",
     "text": [
      "ChromeDriverManager is installed.\n"
     ]
    }
   ],
   "source": [
    "brand_score = BrandScore()"
   ]
  },
  {
   "cell_type": "code",
   "execution_count": 3,
   "metadata": {},
   "outputs": [],
   "source": [
    "brand_score.join_site()"
   ]
  },
  {
   "cell_type": "code",
   "execution_count": 4,
   "metadata": {},
   "outputs": [
    {
     "name": "stdout",
     "output_type": "stream",
     "text": [
      "해당 검색 결과 12개의 브랜드평판지수 결과가 존재합니다. >\n",
      "[브랜드평판] 금융 마이데이터 브랜드 2023년 12월 빅데이터 분석결과...1위 신한은행 마이데이터, 2위 KB국민은행 마이데이터, 3위 현대카드 마이데이터\n",
      "[브랜드평판] 금융 마이데이터 브랜드 2023년 11월 빅데이터 분석결과...1위 신한카드 마이데이터, 2위 미래에셋증권 마이데이터, 3위 KB국민은행 마이데이터\n",
      "[브랜드평판] 금융 마이데이터 브랜드 2023년 10월 빅데이터 분석결과...1위 신한카드 마이데이터, 2위 우리은행 마이데이터, 3위 미래에셋증권 마이데이터\n",
      "[브랜드평판] 금융 마이데이터 브랜드 2023년 9월 빅데이터 분석결과... 1위 신한카드 마이데이터, 2위 우리은행 마이데이터, 3위 현대카드 마이데이터\n",
      "[브랜드평판] 금융 마이데이터 브랜드 2023년 8월 빅데이터 분석결과...1위 신한카드 마이데이터, 2위 우리은행 마이데이터, 3위 KB국민은행 마이데이터\n",
      "[브랜드평판] 금융 마이데이터 브랜드 2023년 7월 빅데이터 분석결과...1위 신한카드 마이데이터, 2위 현대카드 마이데이터, 3위 우리은행 마이데이터\n",
      "[브랜드평판] 금융 마이데이터 브랜드 2023년 6월 빅데이터 분석결과...1위 신한카드 마이데이터, 2위 현대카드 마이데이터, 3위 KB국민은행 마이데이터\n",
      "[브랜드평판] 금융 마이데이터 브랜드 2023년 5월 빅데이터 분석결과...1위 신한카드 마이데이터, 2위 KB국민은행 마이데이터, 3위 우리은행 마이데이터\n",
      "[브랜드평판] 금융 마이데이터 브랜드 2023년 4월 빅데이터 분석결과...1위 신한카드 마이데이터, 2위 현대카드 마이데이터, 3위 우리은행 마이데이터\n",
      "[브랜드평판] 금융 마이데이터 브랜드 2023년 3월 빅데이터 분석결과...1위 현대카드 마이데이터, 2위 신한은행 마이데이터, 3위 우리은행 마이데이터\n",
      "[브랜드평판] 금융 마이데이터 브랜드 2023년 2월 빅데이터 분석결과...1위 신한카드 마이데이터, 2위 우리은행 마이데이터, 3위 현대카드 마이데이터\n",
      "[브랜드평판] 금융 마이데이터 브랜드 2023년 1월 빅데이터 분석결과...1위 KB국민은행, 2위 신한은행, 3위 우리은행\n",
      "extract_df_with_idx(idx) method 를 이용해 월별 데이터를 추출하세요.\n"
     ]
    }
   ],
   "source": [
    "brand_score.search_with_title('마이데이터')"
   ]
  },
  {
   "cell_type": "code",
   "execution_count": 5,
   "metadata": {},
   "outputs": [
    {
     "name": "stdout",
     "output_type": "stream",
     "text": [
      "데이터 추출을 시작합니다. 창이 원래대로 돌아올 때 까지 기다려주세요....\n",
      "https://brikorea.com/bbs/board.php?bo_table=rep_1&wr_id=3116로 사이트 이동\n",
      "추출 완료\n"
     ]
    }
   ],
   "source": [
    "df = brand_score.extract_df_with_idx(0)"
   ]
  },
  {
   "cell_type": "code",
   "execution_count": 6,
   "metadata": {},
   "outputs": [
    {
     "data": {
      "text/html": [
       "<div>\n",
       "<style scoped>\n",
       "    .dataframe tbody tr th:only-of-type {\n",
       "        vertical-align: middle;\n",
       "    }\n",
       "\n",
       "    .dataframe tbody tr th {\n",
       "        vertical-align: top;\n",
       "    }\n",
       "\n",
       "    .dataframe thead th {\n",
       "        text-align: right;\n",
       "    }\n",
       "</style>\n",
       "<table border=\"1\" class=\"dataframe\">\n",
       "  <thead>\n",
       "    <tr style=\"text-align: right;\">\n",
       "      <th></th>\n",
       "      <th>금융 업계 이름</th>\n",
       "      <th>참여지수</th>\n",
       "      <th>미디어지수</th>\n",
       "      <th>소통지수</th>\n",
       "      <th>커뮤니티지수</th>\n",
       "      <th>브랜드평판지수</th>\n",
       "    </tr>\n",
       "  </thead>\n",
       "  <tbody>\n",
       "    <tr>\n",
       "      <th>0</th>\n",
       "      <td>신한은행</td>\n",
       "      <td>393804</td>\n",
       "      <td>828431</td>\n",
       "      <td>805578</td>\n",
       "      <td>805238</td>\n",
       "      <td>2833052</td>\n",
       "    </tr>\n",
       "    <tr>\n",
       "      <th>1</th>\n",
       "      <td>KB국민은행</td>\n",
       "      <td>676868</td>\n",
       "      <td>608854</td>\n",
       "      <td>623214</td>\n",
       "      <td>664454</td>\n",
       "      <td>2573391</td>\n",
       "    </tr>\n",
       "    <tr>\n",
       "      <th>2</th>\n",
       "      <td>현대카드</td>\n",
       "      <td>294918</td>\n",
       "      <td>353399</td>\n",
       "      <td>490866</td>\n",
       "      <td>1142152</td>\n",
       "      <td>2281335</td>\n",
       "    </tr>\n",
       "    <tr>\n",
       "      <th>3</th>\n",
       "      <td>KB국민카드</td>\n",
       "      <td>278836</td>\n",
       "      <td>610820</td>\n",
       "      <td>695173</td>\n",
       "      <td>661164</td>\n",
       "      <td>2245992</td>\n",
       "    </tr>\n",
       "    <tr>\n",
       "      <th>4</th>\n",
       "      <td>하나은행</td>\n",
       "      <td>354864</td>\n",
       "      <td>593470</td>\n",
       "      <td>440324</td>\n",
       "      <td>796279</td>\n",
       "      <td>2184937</td>\n",
       "    </tr>\n",
       "    <tr>\n",
       "      <th>5</th>\n",
       "      <td>신한카드</td>\n",
       "      <td>443511</td>\n",
       "      <td>375888</td>\n",
       "      <td>538814</td>\n",
       "      <td>350161</td>\n",
       "      <td>1708373</td>\n",
       "    </tr>\n",
       "    <tr>\n",
       "      <th>6</th>\n",
       "      <td>롯데카드</td>\n",
       "      <td>179467</td>\n",
       "      <td>242645</td>\n",
       "      <td>305803</td>\n",
       "      <td>816531</td>\n",
       "      <td>1544446</td>\n",
       "    </tr>\n",
       "    <tr>\n",
       "      <th>7</th>\n",
       "      <td>하나카드</td>\n",
       "      <td>162027</td>\n",
       "      <td>188237</td>\n",
       "      <td>246049</td>\n",
       "      <td>487132</td>\n",
       "      <td>1083446</td>\n",
       "    </tr>\n",
       "    <tr>\n",
       "      <th>8</th>\n",
       "      <td>미래에셋증권</td>\n",
       "      <td>83369</td>\n",
       "      <td>273882</td>\n",
       "      <td>293835</td>\n",
       "      <td>274594</td>\n",
       "      <td>925680</td>\n",
       "    </tr>\n",
       "    <tr>\n",
       "      <th>9</th>\n",
       "      <td>DGB대구은행</td>\n",
       "      <td>77285</td>\n",
       "      <td>281179</td>\n",
       "      <td>204264</td>\n",
       "      <td>242509</td>\n",
       "      <td>805236</td>\n",
       "    </tr>\n",
       "  </tbody>\n",
       "</table>\n",
       "</div>"
      ],
      "text/plain": [
       "  금융 업계 이름    참여지수   미디어지수    소통지수   커뮤니티지수  브랜드평판지수\n",
       "0     신한은행  393804  828431  805578   805238  2833052\n",
       "1   KB국민은행  676868  608854  623214   664454  2573391\n",
       "2     현대카드  294918  353399  490866  1142152  2281335\n",
       "3   KB국민카드  278836  610820  695173   661164  2245992\n",
       "4     하나은행  354864  593470  440324   796279  2184937\n",
       "5     신한카드  443511  375888  538814   350161  1708373\n",
       "6     롯데카드  179467  242645  305803   816531  1544446\n",
       "7     하나카드  162027  188237  246049   487132  1083446\n",
       "8   미래에셋증권   83369  273882  293835   274594   925680\n",
       "9  DGB대구은행   77285  281179  204264   242509   805236"
      ]
     },
     "execution_count": 6,
     "metadata": {},
     "output_type": "execute_result"
    }
   ],
   "source": [
    "df.head(10)"
   ]
  },
  {
   "cell_type": "code",
   "execution_count": 9,
   "metadata": {},
   "outputs": [],
   "source": [
    "import requests\n",
    "import json\n",
    "\n",
    "Google_SEARCH_ENGINE_ID = \"\"  # Search Engine ID \n",
    "Google_API_KEY = \"\" # Custom Search Engine API KEY \n",
    "query = f\"{df['금융 업계 이름'][0]} 마이데이터\"  # 검색할 쿼리\n",
    "start_page = 1 # 몇 페이지를 검색할 것인지. 한 페이지 당 10개의 게시물을 받아들일 수 있습니다. "
   ]
  },
  {
   "cell_type": "code",
   "execution_count": 10,
   "metadata": {},
   "outputs": [],
   "source": [
    "\n",
    "url = f\"https://www.googleapis.com/customsearch/v1?key={Google_API_KEY}&cx={Google_SEARCH_ENGINE_ID}&q={query}\"\n",
    "re = requests.get(url) "
   ]
  },
  {
   "cell_type": "code",
   "execution_count": 11,
   "metadata": {},
   "outputs": [],
   "source": [
    "import pandas as pd"
   ]
  },
  {
   "cell_type": "code",
   "execution_count": 12,
   "metadata": {},
   "outputs": [],
   "source": [
    "data = json.loads(re.text)\n",
    "columns = ['제목', '요약', '링크']\n",
    "contents_dict = {e: [] for e in columns}\n",
    "for e in data['items']:\n",
    "    contents_dict['제목'].append(e['title'])\n",
    "    contents_dict['요약'].append(e['snippet'])\n",
    "    contents_dict['링크'].append(e['link'])\n",
    "\n",
    "df2 = pd.DataFrame(contents_dict, columns=columns)"
   ]
  },
  {
   "cell_type": "code",
   "execution_count": 13,
   "metadata": {},
   "outputs": [
    {
     "data": {
      "text/html": [
       "<div>\n",
       "<style scoped>\n",
       "    .dataframe tbody tr th:only-of-type {\n",
       "        vertical-align: middle;\n",
       "    }\n",
       "\n",
       "    .dataframe tbody tr th {\n",
       "        vertical-align: top;\n",
       "    }\n",
       "\n",
       "    .dataframe thead th {\n",
       "        text-align: right;\n",
       "    }\n",
       "</style>\n",
       "<table border=\"1\" class=\"dataframe\">\n",
       "  <thead>\n",
       "    <tr style=\"text-align: right;\">\n",
       "      <th></th>\n",
       "      <th>제목</th>\n",
       "      <th>요약</th>\n",
       "      <th>링크</th>\n",
       "    </tr>\n",
       "  </thead>\n",
       "  <tbody>\n",
       "    <tr>\n",
       "      <th>0</th>\n",
       "      <td>마이데이터 소개</td>\n",
       "      <td>[KISDI 영상보고서] 마이데이터, 개인이 데이터 유통을 주도한다?! (출처 .....</td>\n",
       "      <td>https://openapi.shinhan.com/mydata/info</td>\n",
       "    </tr>\n",
       "    <tr>\n",
       "      <th>1</th>\n",
       "      <td>마이 데이터 '후끈', 신한은행 독주 속 덩치 키우는 은행권 - 뉴스핌</td>\n",
       "      <td>Aug 16, 2023 ... KB국민은행은 마이데이터 신용관리 서비스에 고객 신용...</td>\n",
       "      <td>https://www.newspim.com/news/view/20230816000402</td>\n",
       "    </tr>\n",
       "    <tr>\n",
       "      <th>2</th>\n",
       "      <td>“새는 돈 잡아라” 마이데이터, '절약 전략' 대신 짜드립니다 - 브라보 ...</td>\n",
       "      <td>Feb 15, 2023 ... 신한은행의 마이데이터 서비스 '머니버스'를 운영하는 ...</td>\n",
       "      <td>https://bravo.etoday.co.kr/view/atc_view/14311</td>\n",
       "    </tr>\n",
       "    <tr>\n",
       "      <th>3</th>\n",
       "      <td>'大 마이데이터' 시대, 금융권 신한 '나홀로' 독주</td>\n",
       "      <td>Aug 22, 2023 ... 신한은행·카드 각 업권별 유일 '민간 데이터 전문기관...</td>\n",
       "      <td>https://www.kukinews.com/newsView/kuk202308210230</td>\n",
       "    </tr>\n",
       "    <tr>\n",
       "      <th>4</th>\n",
       "      <td>신한은행 마이데이터, 수수료 수입보다 고객 편익 최우선</td>\n",
       "      <td>Aug 3, 2023 ... 신한금융 그룹차원에서는 은행 뿐만 아니라 증권, 보험 ...</td>\n",
       "      <td>https://www.newstomato.com/ReadNews.aspx?no=11...</td>\n",
       "    </tr>\n",
       "    <tr>\n",
       "      <th>5</th>\n",
       "      <td>'마이데이터' 시대, 소비자가 선택한 통합자산관리 플랫폼｜동아일보</td>\n",
       "      <td>Jun 28, 2023 ... 신한은행의 마이데이터 서비스 '머니버스(MoneyVe...</td>\n",
       "      <td>https://www.donga.com/news/Economy/article/all...</td>\n",
       "    </tr>\n",
       "    <tr>\n",
       "      <th>6</th>\n",
       "      <td>신한은행, 마이데이터 서비스 '머니버스' 출시 &lt; 1금융 &lt; 금융/증권 ...</td>\n",
       "      <td>Dec 1, 2021 ... [이코노믹리뷰=박창민 기자] 신한은행은 마이데이터 서비...</td>\n",
       "      <td>https://www.econovill.com/news/articleView.htm...</td>\n",
       "    </tr>\n",
       "    <tr>\n",
       "      <th>7</th>\n",
       "      <td>신한카드 마이데이터 서비스 가입 안내</td>\n",
       "      <td>Nov 15, 2023 ... 나의 흩어진 금융 데이터를 한 번에 조회하고 맞춤형 ...</td>\n",
       "      <td>https://www.shinhancard.com/pconts/html/benefi...</td>\n",
       "    </tr>\n",
       "    <tr>\n",
       "      <th>8</th>\n",
       "      <td>[인터뷰] 윤근혁 신한은행 마이데이터 유닛 팀장 “금융경험 연결하는 ...</td>\n",
       "      <td>Sep 26, 2022 ... 윤근혁 팀장은 신한은행의 마이데이터(본인신용정보관리업...</td>\n",
       "      <td>https://www.fntimes.com/html/view.php?ud=20220...</td>\n",
       "    </tr>\n",
       "    <tr>\n",
       "      <th>9</th>\n",
       "      <td>신한은행 마이데이터 '머니버스' 리얼리뷰 : 네이버 블로그</td>\n",
       "      <td>Feb 2, 2022 ... 또 주택 마련, 자동차 구매, 여행 등 목표를 설정할 ...</td>\n",
       "      <td>http://blog.naver.com/wet0405/222637061757</td>\n",
       "    </tr>\n",
       "  </tbody>\n",
       "</table>\n",
       "</div>"
      ],
      "text/plain": [
       "                                             제목  \\\n",
       "0                                      마이데이터 소개   \n",
       "1       마이 데이터 '후끈', 신한은행 독주 속 덩치 키우는 은행권 - 뉴스핌   \n",
       "2  “새는 돈 잡아라” 마이데이터, '절약 전략' 대신 짜드립니다 - 브라보 ...   \n",
       "3                 '大 마이데이터' 시대, 금융권 신한 '나홀로' 독주   \n",
       "4                신한은행 마이데이터, 수수료 수입보다 고객 편익 최우선   \n",
       "5          '마이데이터' 시대, 소비자가 선택한 통합자산관리 플랫폼｜동아일보   \n",
       "6   신한은행, 마이데이터 서비스 '머니버스' 출시 < 1금융 < 금융/증권 ...   \n",
       "7                          신한카드 마이데이터 서비스 가입 안내   \n",
       "8     [인터뷰] 윤근혁 신한은행 마이데이터 유닛 팀장 “금융경험 연결하는 ...   \n",
       "9              신한은행 마이데이터 '머니버스' 리얼리뷰 : 네이버 블로그   \n",
       "\n",
       "                                                  요약  \\\n",
       "0  [KISDI 영상보고서] 마이데이터, 개인이 데이터 유통을 주도한다?! (출처 .....   \n",
       "1  Aug 16, 2023 ... KB국민은행은 마이데이터 신용관리 서비스에 고객 신용...   \n",
       "2  Feb 15, 2023 ... 신한은행의 마이데이터 서비스 '머니버스'를 운영하는 ...   \n",
       "3  Aug 22, 2023 ... 신한은행·카드 각 업권별 유일 '민간 데이터 전문기관...   \n",
       "4  Aug 3, 2023 ... 신한금융 그룹차원에서는 은행 뿐만 아니라 증권, 보험 ...   \n",
       "5  Jun 28, 2023 ... 신한은행의 마이데이터 서비스 '머니버스(MoneyVe...   \n",
       "6  Dec 1, 2021 ... [이코노믹리뷰=박창민 기자] 신한은행은 마이데이터 서비...   \n",
       "7  Nov 15, 2023 ... 나의 흩어진 금융 데이터를 한 번에 조회하고 맞춤형 ...   \n",
       "8  Sep 26, 2022 ... 윤근혁 팀장은 신한은행의 마이데이터(본인신용정보관리업...   \n",
       "9  Feb 2, 2022 ... 또 주택 마련, 자동차 구매, 여행 등 목표를 설정할 ...   \n",
       "\n",
       "                                                  링크  \n",
       "0            https://openapi.shinhan.com/mydata/info  \n",
       "1   https://www.newspim.com/news/view/20230816000402  \n",
       "2     https://bravo.etoday.co.kr/view/atc_view/14311  \n",
       "3  https://www.kukinews.com/newsView/kuk202308210230  \n",
       "4  https://www.newstomato.com/ReadNews.aspx?no=11...  \n",
       "5  https://www.donga.com/news/Economy/article/all...  \n",
       "6  https://www.econovill.com/news/articleView.htm...  \n",
       "7  https://www.shinhancard.com/pconts/html/benefi...  \n",
       "8  https://www.fntimes.com/html/view.php?ud=20220...  \n",
       "9         http://blog.naver.com/wet0405/222637061757  "
      ]
     },
     "execution_count": 13,
     "metadata": {},
     "output_type": "execute_result"
    }
   ],
   "source": [
    "df2"
   ]
  },
  {
   "cell_type": "code",
   "execution_count": null,
   "metadata": {},
   "outputs": [],
   "source": []
  }
 ],
 "metadata": {
  "kernelspec": {
   "display_name": ".venv",
   "language": "python",
   "name": "python3"
  },
  "language_info": {
   "codemirror_mode": {
    "name": "ipython",
    "version": 3
   },
   "file_extension": ".py",
   "mimetype": "text/x-python",
   "name": "python",
   "nbconvert_exporter": "python",
   "pygments_lexer": "ipython3",
   "version": "3.11.1"
  }
 },
 "nbformat": 4,
 "nbformat_minor": 2
}
